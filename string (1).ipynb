{
 "cells": [
  {
   "cell_type": "markdown",
   "id": "9107467c-5d5b-44ce-9094-ceb30d33fa4f",
   "metadata": {},
   "source": [
    "## String \n",
    "- It is a sequence of characters\n",
    "- it is denoted with ' ' or \" \"\n",
    "- Strings are immutable\n",
    "- Strings are index-based and Sliceable\n",
    "#### string indexing"
   ]
  },
  {
   "cell_type": "code",
   "execution_count": 6,
   "id": "f68c2ae9-85bb-4dc4-9349-97d6fe8af991",
   "metadata": {},
   "outputs": [
    {
     "name": "stdout",
     "output_type": "stream",
     "text": [
      "g\n",
      "a\n",
      "a\n"
     ]
    }
   ],
   "source": [
    "s=\"Meghana\"\n",
    "##  0  1  2  3  4  5  6 ==> forward indexing \n",
    "## -7 -6 -5 -4 -3 -2 -1 ==> backward indexing\n",
    "print(s[2])\n",
    "print(s[4])\n",
    "print(s[-3])"
   ]
  },
  {
   "cell_type": "markdown",
   "id": "df9bf72d-84db-44e9-b7b2-6e5ce6b8fa44",
   "metadata": {},
   "source": [
    "#### String Slicing\n"
   ]
  },
  {
   "cell_type": "code",
   "execution_count": 8,
   "id": "485f1e6e-1fec-4bf9-b5b6-e97b1555e2d5",
   "metadata": {},
   "outputs": [
    {
     "name": "stdout",
     "output_type": "stream",
     "text": [
      "gha\n",
      "anahgeM\n",
      "ehn\n",
      "Megh\n",
      "Meghana\n"
     ]
    }
   ],
   "source": [
    "s=\"Meghana\"\n",
    "print(s[2:5])\n",
    "print(s[::-1])## reverse the string \n",
    "print(s[1:6:2])\n",
    "print(s[:4])\n",
    "print(s[:])"
   ]
  },
  {
   "cell_type": "markdown",
   "id": "b07524d5-752a-46e0-b1fd-2d26baf95647",
   "metadata": {},
   "source": [
    "## String Operations\n",
    "- Concatination  \"+\"\n",
    "- repetation using \"*\"\n",
    "- Case conversions"
   ]
  },
  {
   "cell_type": "code",
   "execution_count": 9,
   "id": "fe9e0ccd-ab8c-42b5-a828-ed9062ebcdd8",
   "metadata": {},
   "outputs": [
    {
     "ename": "TypeError",
     "evalue": "'str' object does not support item assignment",
     "output_type": "error",
     "traceback": [
      "\u001b[31m---------------------------------------------------------------------------\u001b[39m",
      "\u001b[31mTypeError\u001b[39m                                 Traceback (most recent call last)",
      "\u001b[36mCell\u001b[39m\u001b[36m \u001b[39m\u001b[32mIn[9]\u001b[39m\u001b[32m, line 2\u001b[39m\n\u001b[32m      1\u001b[39m s=\u001b[33m\"\u001b[39m\u001b[33mMeghana\u001b[39m\u001b[33m\"\u001b[39m\n\u001b[32m----> \u001b[39m\u001b[32m2\u001b[39m \u001b[43ms\u001b[49m\u001b[43m[\u001b[49m\u001b[32;43m0\u001b[39;49m\u001b[43m]\u001b[49m=\u001b[33m\"\u001b[39m\u001b[33ms\u001b[39m\u001b[33m\"\u001b[39m\n",
      "\u001b[31mTypeError\u001b[39m: 'str' object does not support item assignment"
     ]
    }
   ],
   "source": [
    "s=\"Meghana\"\n",
    "s[0]=\"s\"  ## we can't change the string because it is immuatable"
   ]
  },
  {
   "cell_type": "code",
   "execution_count": 11,
   "id": "d1c5e074-f31d-4056-8c2c-aada75f9db9c",
   "metadata": {},
   "outputs": [
    {
     "name": "stdout",
     "output_type": "stream",
     "text": [
      "Meghana\n",
      "Megha na\n"
     ]
    }
   ],
   "source": [
    "#concatination \n",
    "s1=\"Megha\"\n",
    "s2=\"na\"\n",
    "print(s1+s2)\n",
    "print(s1+\" \"+s2)"
   ]
  },
  {
   "cell_type": "code",
   "execution_count": 15,
   "id": "853514d7-584f-452b-9ce0-c651db43501a",
   "metadata": {},
   "outputs": [
    {
     "name": "stdout",
     "output_type": "stream",
     "text": [
      "Meghena\n"
     ]
    }
   ],
   "source": [
    "## here we want to change the letter by using the slicing method\n",
    "s=\"Meghana\"\n",
    "n=s[:4]+'e'+s[-2:]\n",
    "print(n)"
   ]
  },
  {
   "cell_type": "code",
   "execution_count": 33,
   "id": "a174895a-3ba3-413d-9ec5-6ffd1ad110ac",
   "metadata": {},
   "outputs": [
    {
     "name": "stdout",
     "output_type": "stream",
     "text": [
      "Meghana Meghana Meghana \n"
     ]
    }
   ],
   "source": [
    "## repetation\n",
    "s=\"Meghana \" \n",
    "print(s * 3)"
   ]
  },
  {
   "cell_type": "code",
   "execution_count": 39,
   "id": "bde84d30-18e7-4950-803f-9e09cc3ef810",
   "metadata": {},
   "outputs": [
    {
     "name": "stdout",
     "output_type": "stream",
     "text": [
      "meghana\n",
      "I LOVE INDIA\n",
      "mEGHANA\n",
      "I Love India\n",
      "Meghana\n"
     ]
    }
   ],
   "source": [
    "s=\"Meghana\"\n",
    "a=\"I love India\"\n",
    "#lower case\n",
    "print(s.lower())\n",
    "#Upper case\n",
    "print(a.upper())\n",
    "#swape case()\n",
    "print(s.swapcase())\n",
    "#title()\n",
    "print(a.title())\n",
    "#capitalize()\n",
    "print(s.capitalize())"
   ]
  },
  {
   "cell_type": "code",
   "execution_count": 2,
   "id": "49889d77-4a26-496d-86d2-01df0553fc39",
   "metadata": {},
   "outputs": [
    {
     "name": "stdout",
     "output_type": "stream",
     "text": [
      "True\n"
     ]
    }
   ],
   "source": [
    "a=None\n",
    "print(a is None)\n"
   ]
  },
  {
   "cell_type": "markdown",
   "id": "3bc418c5-2bfc-4cce-a658-67225395193f",
   "metadata": {},
   "source": [
    "## Remove White Spaces\n",
    "- Strip--> to remove the spaces in the string\n",
    "- lstrip--> it removes leading white spaces\n",
    "- rstrip--> it removes thr lagging white spaces\"\""
   ]
  },
  {
   "cell_type": "code",
   "execution_count": 1,
   "id": "0218f5cc-7ccf-4c26-81b3-0c8ca5314205",
   "metadata": {},
   "outputs": [
    {
     "name": "stdout",
     "output_type": "stream",
     "text": [
      "meghana\n",
      "meghana       \n",
      "          meghana\n"
     ]
    }
   ],
   "source": [
    "##example \n",
    "s='          meghana       '\n",
    "print(s.strip())\n",
    "print(s.lstrip())\n",
    "print(s.rstrip())"
   ]
  },
  {
   "cell_type": "code",
   "execution_count": 2,
   "id": "56689ac7-3d2e-43b6-ae60-909049bdd190",
   "metadata": {},
   "outputs": [
    {
     "ename": "SyntaxError",
     "evalue": "invalid syntax (3060896178.py, line 3)",
     "output_type": "error",
     "traceback": [
      "  \u001b[36mCell\u001b[39m\u001b[36m \u001b[39m\u001b[32mIn[2]\u001b[39m\u001b[32m, line 3\u001b[39m\n\u001b[31m    \u001b[39m\u001b[31mprint(t.strip(!))\u001b[39m\n                  ^\n\u001b[31mSyntaxError\u001b[39m\u001b[31m:\u001b[39m invalid syntax\n"
     ]
    }
   ],
   "source": [
    "## here we can remove a pattern for example\n",
    "t='!!!!!what!why!!!!'\n",
    "print(t.strip(!))\n",
    "print(t.lstrip(!))\n",
    "print(t.rstrip(!))"
   ]
  },
  {
   "cell_type": "code",
   "execution_count": 3,
   "id": "21c93311-a8cd-4fd2-9773-7c009a068f12",
   "metadata": {},
   "outputs": [
    {
     "name": "stdout",
     "output_type": "stream",
     "text": [
      "what!why\n",
      "what!why!!!!\n",
      "!!!!!what!why\n"
     ]
    }
   ],
   "source": [
    "t='!!!!!what!why!!!!'\n",
    "print(t.strip('!'))\n",
    "print(t.lstrip('!'))\n",
    "print(t.rstrip('!'))"
   ]
  },
  {
   "cell_type": "markdown",
   "id": "c3288288-db21-4f04-809b-d1f9e0007280",
   "metadata": {},
   "source": [
    "## Split() \n",
    "- cover the string into list of substrings as per delimiter\n",
    "- syntax - split()"
   ]
  },
  {
   "cell_type": "code",
   "execution_count": 5,
   "id": "63f01d59-00fa-4396-812e-fd85aa2b6423",
   "metadata": {},
   "outputs": [
    {
     "name": "stdout",
     "output_type": "stream",
     "text": [
      "['I', 'am', 'a', 'good', 'girl']\n"
     ]
    }
   ],
   "source": [
    "\n",
    "##example\n",
    "s='I am a good girl'\n",
    "print(s.split())"
   ]
  },
  {
   "cell_type": "code",
   "execution_count": 6,
   "id": "c82ed9c4-aa2d-438f-b47a-63fe40fb6717",
   "metadata": {},
   "outputs": [
    {
     "name": "stdout",
     "output_type": "stream",
     "text": [
      "['I ', 'm ', ' good girl']\n"
     ]
    }
   ],
   "source": [
    "## here it splits at a perticular delimiter \n",
    "## for Example\n",
    "print(s.split('a'))"
   ]
  },
  {
   "cell_type": "code",
   "execution_count": 7,
   "id": "77829c07-2373-4137-a765-86e86a4bf39e",
   "metadata": {},
   "outputs": [
    {
     "name": "stdout",
     "output_type": "stream",
     "text": [
      "['I am a good girl']\n"
     ]
    }
   ],
   "source": [
    "## if their is no such delimiter  in the string the it simply converts it into the list\n",
    "## for example\n",
    "print(s.split('y'))"
   ]
  },
  {
   "cell_type": "code",
   "execution_count": 10,
   "id": "864f3f3c-9653-4ed4-a876-36a82bbc977d",
   "metadata": {},
   "outputs": [
    {
     "name": "stdout",
     "output_type": "stream",
     "text": [
      "I am a good girl\n"
     ]
    }
   ],
   "source": [
    "##Join()\n",
    "##here it join the string form the list or converts into the string\n",
    "a=['I', 'am', 'a', 'good', 'girl']\n",
    "print(' '.join(a))"
   ]
  },
  {
   "cell_type": "code",
   "execution_count": 11,
   "id": "5d00e17a-4720-42a1-97aa-c4549f7aa708",
   "metadata": {},
   "outputs": [
    {
     "name": "stdout",
     "output_type": "stream",
     "text": [
      "I_am_a_good_girl\n",
      "I@am@a@good@girl\n"
     ]
    }
   ],
   "source": [
    "print('_'.join(a))\n",
    "print('@'.join(a))"
   ]
  },
  {
   "cell_type": "markdown",
   "id": "9aa96dbb-4c21-48a5-9a59-e21bf552c0e9",
   "metadata": {},
   "source": [
    "## find(sub_string) \n",
    "- it returns the first position of substring occurance in the string otherwise -1\n",
    "\n",
    "## replace(old,new) \n",
    "- it replaces the old value to the new value in the old position"
   ]
  },
  {
   "cell_type": "code",
   "execution_count": 12,
   "id": "8d596582-0e86-4aa5-86e6-9e289db36d95",
   "metadata": {},
   "outputs": [
    {
     "name": "stdout",
     "output_type": "stream",
     "text": [
      "2\n",
      "-1\n"
     ]
    }
   ],
   "source": [
    "print(s.find('a'))\n",
    "print(s.find('z'))"
   ]
  },
  {
   "cell_type": "code",
   "execution_count": 13,
   "id": "dee34cf0-d07d-459a-b26b-4518abd98d30",
   "metadata": {},
   "outputs": [
    {
     "name": "stdout",
     "output_type": "stream",
     "text": [
      "2\n"
     ]
    },
    {
     "ename": "ValueError",
     "evalue": "substring not found",
     "output_type": "error",
     "traceback": [
      "\u001b[31m---------------------------------------------------------------------------\u001b[39m",
      "\u001b[31mValueError\u001b[39m                                Traceback (most recent call last)",
      "\u001b[36mCell\u001b[39m\u001b[36m \u001b[39m\u001b[32mIn[13]\u001b[39m\u001b[32m, line 3\u001b[39m\n\u001b[32m      1\u001b[39m \u001b[38;5;66;03m##index(sub_string) - it returns a lower or the first position of substring occurence in the string otherwise it returns Value Error\u001b[39;00m\n\u001b[32m      2\u001b[39m \u001b[38;5;28mprint\u001b[39m(s.index(\u001b[33m'\u001b[39m\u001b[33ma\u001b[39m\u001b[33m'\u001b[39m))\n\u001b[32m----> \u001b[39m\u001b[32m3\u001b[39m \u001b[38;5;28mprint\u001b[39m(\u001b[43ms\u001b[49m\u001b[43m.\u001b[49m\u001b[43mindex\u001b[49m\u001b[43m(\u001b[49m\u001b[33;43m'\u001b[39;49m\u001b[33;43mz\u001b[39;49m\u001b[33;43m'\u001b[39;49m\u001b[43m)\u001b[49m)\n",
      "\u001b[31mValueError\u001b[39m: substring not found"
     ]
    }
   ],
   "source": [
    "##index(sub_string) - it returns a lower or the first position of substring occurence in the string otherwise it returns Value Error\n",
    "print(s.index('a'))\n",
    "print(s.index('z'))"
   ]
  },
  {
   "cell_type": "code",
   "execution_count": 14,
   "id": "844e8dd8-8cc7-4b58-ab90-c953fc28fd9f",
   "metadata": {},
   "outputs": [
    {
     "name": "stdout",
     "output_type": "stream",
     "text": [
      "I zm z good girl\n"
     ]
    }
   ],
   "source": [
    "##replace(old,new) - it replaces the old value to the new value in the old position\n",
    "print(s.replace('a','z'))\n"
   ]
  },
  {
   "cell_type": "markdown",
   "id": "fe46308f-63ed-4baf-82aa-56cda7100b59",
   "metadata": {},
   "source": [
    "## checking Functions\n",
    "- isalpha() - returns True if string contains all are alphabet values\n",
    "- isalnum() - returns True if string contains all are alphabet or digits\n",
    "- isdigit() - returns True if string contains all are digit values"
   ]
  },
  {
   "cell_type": "code",
   "execution_count": 16,
   "id": "1a0b0a94-c185-40e8-bbf9-80a0183067e7",
   "metadata": {},
   "outputs": [
    {
     "name": "stdout",
     "output_type": "stream",
     "text": [
      "True True True False\n"
     ]
    }
   ],
   "source": [
    "a1='abcd'\n",
    "a2='abc123'\n",
    "a3='1234'\n",
    "a4='abc@123'\n",
    "print(a1.isalpha(),a2.isalnum(),a3.isdigit(),a4.isalnum())"
   ]
  },
  {
   "cell_type": "code",
   "execution_count": null,
   "id": "ea136971-aef9-4afb-ad9a-4fe62277ee73",
   "metadata": {},
   "outputs": [],
   "source": [
    "## String Comparision\n",
    " - it compares the lexographical order\n",
    "i.e it compares each character in the strings and returns the boolean values according to the condition"
   ]
  },
  {
   "cell_type": "code",
   "execution_count": 17,
   "id": "17b01e87-c953-4aa1-8667-c393ba3ec502",
   "metadata": {},
   "outputs": [
    {
     "name": "stdout",
     "output_type": "stream",
     "text": [
      "False\n",
      "True\n"
     ]
    }
   ],
   "source": [
    "e1='abcd'\n",
    "e2='abed'\n",
    "print(e1>e2)\n",
    "print(e1<e2)"
   ]
  },
  {
   "cell_type": "markdown",
   "id": "9ecc68ce-ff19-45d9-9e30-3811bac1d3e7",
   "metadata": {},
   "source": [
    "## sample code practice\n"
   ]
  },
  {
   "cell_type": "code",
   "execution_count": 21,
   "id": "6b40eb20-4aa1-4225-b372-3de38402f775",
   "metadata": {},
   "outputs": [
    {
     "name": "stdin",
     "output_type": "stream",
     "text": [
      " I am Meghana\n"
     ]
    },
    {
     "name": "stdout",
     "output_type": "stream",
     "text": [
      "Meghana am I\n"
     ]
    }
   ],
   "source": [
    "## write reverse of words in the given string\n",
    "s=input()\n",
    "words=s.split()\n",
    "l=(words[::-1])\n",
    "print(*l)"
   ]
  },
  {
   "cell_type": "code",
   "execution_count": 25,
   "id": "872ff099-b34e-447a-ab86-1339e897cf4a",
   "metadata": {},
   "outputs": [
    {
     "name": "stdin",
     "output_type": "stream",
     "text": [
      " i love india\n"
     ]
    },
    {
     "name": "stdout",
     "output_type": "stream",
     "text": [
      "6\n"
     ]
    }
   ],
   "source": [
    "## counting the no of vowels present in the string\n",
    "s=input()\n",
    "count=0\n",
    "a=['a','e','i','o','u','A','E','I','O','U']\n",
    "for ch in s:\n",
    "    if ch in a:\n",
    "        count+=1\n",
    "print(count)\n"
   ]
  },
  {
   "cell_type": "code",
   "execution_count": 28,
   "id": "2229349f-e0e7-4d75-9eaf-5ede315e260e",
   "metadata": {},
   "outputs": [
    {
     "name": "stdin",
     "output_type": "stream",
     "text": [
      " Race car\n"
     ]
    },
    {
     "name": "stdout",
     "output_type": "stream",
     "text": [
      "True racecar\n"
     ]
    }
   ],
   "source": [
    "## check whether the string is plarindrom or not\n",
    "s=input()\n",
    "s=s.lower().replace(\" \",\"\")\n",
    "if s==s[::-1]:\n",
    "    print(\"True\",s)\n",
    "else:\n",
    "    print(\"False\")"
   ]
  },
  {
   "cell_type": "code",
   "execution_count": 29,
   "id": "80e7be42-bbf8-4bda-800a-e931695c9d05",
   "metadata": {},
   "outputs": [
    {
     "name": "stdin",
     "output_type": "stream",
     "text": [
      " i love india\n"
     ]
    },
    {
     "name": "stdout",
     "output_type": "stream",
     "text": [
      "{'i': 3, 'l': 1, 'o': 1, 'v': 1, 'e': 1, 'n': 1, 'd': 1, 'a': 1}\n"
     ]
    }
   ],
   "source": [
    "## character frequency\n",
    "s=input()\n",
    "s=s.lower()\n",
    "fre={}\n",
    "for ch in s:\n",
    "    if ch != \" \":\n",
    "       fre[ch]=fre.get(ch,0)+1\n",
    "\n",
    "print(fre)"
   ]
  },
  {
   "cell_type": "code",
   "execution_count": 30,
   "id": "ed604621-b34b-40fd-968d-8ffb6bfe0378",
   "metadata": {},
   "outputs": [
    {
     "name": "stdout",
     "output_type": "stream",
     "text": [
      "{'h': 1, 'e': 1, 'l': 3, 'o': 2, 'w': 1, 'r': 1, 'd': 1}\n"
     ]
    }
   ],
   "source": [
    "def char_frequency(s):\n",
    "    freq = {}\n",
    "    for ch in s.lower():\n",
    "        if ch != \" \":   # ignore spaces\n",
    "            if ch in freq:        # check if character already exists\n",
    "                freq[ch] += 1\n",
    "            else:\n",
    "                freq[ch] = 1\n",
    "    return freq\n",
    "\n",
    "\n",
    "# Example usage\n",
    "s = \"Hello World\"\n",
    "print(char_frequency(s))"
   ]
  },
  {
   "cell_type": "code",
   "execution_count": null,
   "id": "56a712b4-d5d4-4e7e-af51-13363e2218fc",
   "metadata": {},
   "outputs": [],
   "source": []
  }
 ],
 "metadata": {
  "kernelspec": {
   "display_name": "Python 3 (ipykernel)",
   "language": "python",
   "name": "python3"
  },
  "language_info": {
   "codemirror_mode": {
    "name": "ipython",
    "version": 3
   },
   "file_extension": ".py",
   "mimetype": "text/x-python",
   "name": "python",
   "nbconvert_exporter": "python",
   "pygments_lexer": "ipython3",
   "version": "3.13.5"
  }
 },
 "nbformat": 4,
 "nbformat_minor": 5
}
