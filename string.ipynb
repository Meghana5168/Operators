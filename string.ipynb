{
 "cells": [
  {
   "cell_type": "code",
   "execution_count": 2,
   "id": "49889d77-4a26-496d-86d2-01df0553fc39",
   "metadata": {},
   "outputs": [
    {
     "name": "stdout",
     "output_type": "stream",
     "text": [
      "True\n"
     ]
    }
   ],
   "source": [
    "a=None\n",
    "print(a is None)\n"
   ]
  },
  {
   "cell_type": "markdown",
   "id": "3bc418c5-2bfc-4cce-a658-67225395193f",
   "metadata": {},
   "source": [
    "## Remove White Spaces\n",
    "- Strip--> to remove the spaces in the string\n",
    "- lstrip--> it removes leading white spaces\n",
    "- rstrip--> it removes thr lagging white spaces\"\""
   ]
  },
  {
   "cell_type": "code",
   "execution_count": 1,
   "id": "0218f5cc-7ccf-4c26-81b3-0c8ca5314205",
   "metadata": {},
   "outputs": [
    {
     "name": "stdout",
     "output_type": "stream",
     "text": [
      "meghana\n",
      "meghana       \n",
      "          meghana\n"
     ]
    }
   ],
   "source": [
    "##example \n",
    "s='          meghana       '\n",
    "print(s.strip())\n",
    "print(s.lstrip())\n",
    "print(s.rstrip())"
   ]
  },
  {
   "cell_type": "code",
   "execution_count": 2,
   "id": "56689ac7-3d2e-43b6-ae60-909049bdd190",
   "metadata": {},
   "outputs": [
    {
     "ename": "SyntaxError",
     "evalue": "invalid syntax (3060896178.py, line 3)",
     "output_type": "error",
     "traceback": [
      "  \u001b[36mCell\u001b[39m\u001b[36m \u001b[39m\u001b[32mIn[2]\u001b[39m\u001b[32m, line 3\u001b[39m\n\u001b[31m    \u001b[39m\u001b[31mprint(t.strip(!))\u001b[39m\n                  ^\n\u001b[31mSyntaxError\u001b[39m\u001b[31m:\u001b[39m invalid syntax\n"
     ]
    }
   ],
   "source": [
    "## here we can remove a pattern for example\n",
    "t='!!!!!what!why!!!!'\n",
    "print(t.strip(!))\n",
    "print(t.lstrip(!))\n",
    "print(t.rstrip(!))"
   ]
  },
  {
   "cell_type": "code",
   "execution_count": 3,
   "id": "21c93311-a8cd-4fd2-9773-7c009a068f12",
   "metadata": {},
   "outputs": [
    {
     "name": "stdout",
     "output_type": "stream",
     "text": [
      "what!why\n",
      "what!why!!!!\n",
      "!!!!!what!why\n"
     ]
    }
   ],
   "source": [
    "t='!!!!!what!why!!!!'\n",
    "print(t.strip('!'))\n",
    "print(t.lstrip('!'))\n",
    "print(t.rstrip('!'))"
   ]
  },
  {
   "cell_type": "code",
   "execution_count": 5,
   "id": "63f01d59-00fa-4396-812e-fd85aa2b6423",
   "metadata": {},
   "outputs": [
    {
     "name": "stdout",
     "output_type": "stream",
     "text": [
      "['I', 'am', 'a', 'good', 'girl']\n"
     ]
    }
   ],
   "source": [
    "##- Split() -cover the string into list of substrings as per delimiter\n",
    "## syntax - split()\n",
    "##example\n",
    "s='I am a good girl'\n",
    "print(s.split())"
   ]
  },
  {
   "cell_type": "code",
   "execution_count": 6,
   "id": "c82ed9c4-aa2d-438f-b47a-63fe40fb6717",
   "metadata": {},
   "outputs": [
    {
     "name": "stdout",
     "output_type": "stream",
     "text": [
      "['I ', 'm ', ' good girl']\n"
     ]
    }
   ],
   "source": [
    "## here it splits at a perticular delimiter \n",
    "## for Example\n",
    "print(s.split('a'))"
   ]
  },
  {
   "cell_type": "code",
   "execution_count": 7,
   "id": "77829c07-2373-4137-a765-86e86a4bf39e",
   "metadata": {},
   "outputs": [
    {
     "name": "stdout",
     "output_type": "stream",
     "text": [
      "['I am a good girl']\n"
     ]
    }
   ],
   "source": [
    "## if their is no such delimiter  in the string the it simply converts it into the list\n",
    "## for example\n",
    "print(s.split('y'))"
   ]
  },
  {
   "cell_type": "code",
   "execution_count": 10,
   "id": "864f3f3c-9653-4ed4-a876-36a82bbc977d",
   "metadata": {},
   "outputs": [
    {
     "name": "stdout",
     "output_type": "stream",
     "text": [
      "I am a good girl\n"
     ]
    }
   ],
   "source": [
    "##Join()\n",
    "##here it join the string form the list or converts into the string\n",
    "a=['I', 'am', 'a', 'good', 'girl']\n",
    "print(' '.join(a))"
   ]
  },
  {
   "cell_type": "code",
   "execution_count": 11,
   "id": "5d00e17a-4720-42a1-97aa-c4549f7aa708",
   "metadata": {},
   "outputs": [
    {
     "name": "stdout",
     "output_type": "stream",
     "text": [
      "I_am_a_good_girl\n",
      "I@am@a@good@girl\n"
     ]
    }
   ],
   "source": [
    "print('_'.join(a))\n",
    "print('@'.join(a))"
   ]
  },
  {
   "cell_type": "code",
   "execution_count": 12,
   "id": "8d596582-0e86-4aa5-86e6-9e289db36d95",
   "metadata": {},
   "outputs": [
    {
     "name": "stdout",
     "output_type": "stream",
     "text": [
      "2\n",
      "-1\n"
     ]
    }
   ],
   "source": [
    "## find(sub_string) - it returns the first position of substring occurance in the string otherwise -1\n",
    "\n",
    "##replace(old,new) - it replaces the old value to the new value in the old position\n",
    "print(s.find('a'))\n",
    "print(s.find('z'))"
   ]
  },
  {
   "cell_type": "code",
   "execution_count": 13,
   "id": "dee34cf0-d07d-459a-b26b-4518abd98d30",
   "metadata": {},
   "outputs": [
    {
     "name": "stdout",
     "output_type": "stream",
     "text": [
      "2\n"
     ]
    },
    {
     "ename": "ValueError",
     "evalue": "substring not found",
     "output_type": "error",
     "traceback": [
      "\u001b[31m---------------------------------------------------------------------------\u001b[39m",
      "\u001b[31mValueError\u001b[39m                                Traceback (most recent call last)",
      "\u001b[36mCell\u001b[39m\u001b[36m \u001b[39m\u001b[32mIn[13]\u001b[39m\u001b[32m, line 3\u001b[39m\n\u001b[32m      1\u001b[39m \u001b[38;5;66;03m##index(sub_string) - it returns a lower or the first position of substring occurence in the string otherwise it returns Value Error\u001b[39;00m\n\u001b[32m      2\u001b[39m \u001b[38;5;28mprint\u001b[39m(s.index(\u001b[33m'\u001b[39m\u001b[33ma\u001b[39m\u001b[33m'\u001b[39m))\n\u001b[32m----> \u001b[39m\u001b[32m3\u001b[39m \u001b[38;5;28mprint\u001b[39m(\u001b[43ms\u001b[49m\u001b[43m.\u001b[49m\u001b[43mindex\u001b[49m\u001b[43m(\u001b[49m\u001b[33;43m'\u001b[39;49m\u001b[33;43mz\u001b[39;49m\u001b[33;43m'\u001b[39;49m\u001b[43m)\u001b[49m)\n",
      "\u001b[31mValueError\u001b[39m: substring not found"
     ]
    }
   ],
   "source": [
    "##index(sub_string) - it returns a lower or the first position of substring occurence in the string otherwise it returns Value Error\n",
    "print(s.index('a'))\n",
    "print(s.index('z'))"
   ]
  },
  {
   "cell_type": "code",
   "execution_count": 14,
   "id": "844e8dd8-8cc7-4b58-ab90-c953fc28fd9f",
   "metadata": {},
   "outputs": [
    {
     "name": "stdout",
     "output_type": "stream",
     "text": [
      "I zm z good girl\n"
     ]
    }
   ],
   "source": [
    "##replace(old,new) - it replaces the old value to the new value in the old position\n",
    "print(s.replace('a','z'))\n"
   ]
  },
  {
   "cell_type": "markdown",
   "id": "fe46308f-63ed-4baf-82aa-56cda7100b59",
   "metadata": {},
   "source": [
    "## checking Functions\n",
    "- isalpha() - returns True if string contains all are alphabet values\n",
    "- isalnum() - returns True if string contains all are alphabet or digits\n",
    "- isdigit() - returns True if string contains all are digit values"
   ]
  },
  {
   "cell_type": "code",
   "execution_count": 16,
   "id": "1a0b0a94-c185-40e8-bbf9-80a0183067e7",
   "metadata": {},
   "outputs": [
    {
     "name": "stdout",
     "output_type": "stream",
     "text": [
      "True True True False\n"
     ]
    }
   ],
   "source": [
    "a1='abcd'\n",
    "a2='abc123'\n",
    "a3='1234'\n",
    "a4='abc@123'\n",
    "print(a1.isalpha(),a2.isalnum(),a3.isdigit(),a4.isalnum())"
   ]
  },
  {
   "cell_type": "code",
   "execution_count": null,
   "id": "ea136971-aef9-4afb-ad9a-4fe62277ee73",
   "metadata": {},
   "outputs": [],
   "source": [
    "## String Comparision\n",
    " - it compares the lexographical order\n",
    "i.e it compares each character in the strings and returns the boolean values according to the condition"
   ]
  },
  {
   "cell_type": "code",
   "execution_count": 17,
   "id": "17b01e87-c953-4aa1-8667-c393ba3ec502",
   "metadata": {},
   "outputs": [
    {
     "name": "stdout",
     "output_type": "stream",
     "text": [
      "False\n",
      "True\n"
     ]
    }
   ],
   "source": [
    "e1='abcd'\n",
    "e2='abed'\n",
    "print(e1>e2)\n",
    "print(e1<e2)"
   ]
  },
  {
   "cell_type": "code",
   "execution_count": null,
   "id": "be33cfdd-90cd-49ff-9313-25365989cb57",
   "metadata": {},
   "outputs": [],
   "source": []
  }
 ],
 "metadata": {
  "kernelspec": {
   "display_name": "Python 3 (ipykernel)",
   "language": "python",
   "name": "python3"
  },
  "language_info": {
   "codemirror_mode": {
    "name": "ipython",
    "version": 3
   },
   "file_extension": ".py",
   "mimetype": "text/x-python",
   "name": "python",
   "nbconvert_exporter": "python",
   "pygments_lexer": "ipython3",
   "version": "3.13.5"
  }
 },
 "nbformat": 4,
 "nbformat_minor": 5
}
